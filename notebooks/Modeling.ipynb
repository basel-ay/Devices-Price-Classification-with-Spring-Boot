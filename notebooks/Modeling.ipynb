{
 "cells": [
  {
   "cell_type": "code",
   "execution_count": 1,
   "metadata": {},
   "outputs": [
    {
     "data": {
      "text/html": [
       "<div>\n",
       "<style scoped>\n",
       "    .dataframe tbody tr th:only-of-type {\n",
       "        vertical-align: middle;\n",
       "    }\n",
       "\n",
       "    .dataframe tbody tr th {\n",
       "        vertical-align: top;\n",
       "    }\n",
       "\n",
       "    .dataframe thead th {\n",
       "        text-align: right;\n",
       "    }\n",
       "</style>\n",
       "<table border=\"1\" class=\"dataframe\">\n",
       "  <thead>\n",
       "    <tr style=\"text-align: right;\">\n",
       "      <th></th>\n",
       "      <th>battery_power</th>\n",
       "      <th>blue</th>\n",
       "      <th>clock_speed</th>\n",
       "      <th>dual_sim</th>\n",
       "      <th>fc</th>\n",
       "      <th>four_g</th>\n",
       "      <th>int_memory</th>\n",
       "      <th>m_dep</th>\n",
       "      <th>mobile_wt</th>\n",
       "      <th>n_cores</th>\n",
       "      <th>...</th>\n",
       "      <th>touch_screen</th>\n",
       "      <th>wifi</th>\n",
       "      <th>price_range</th>\n",
       "      <th>screen_area</th>\n",
       "      <th>log_ram</th>\n",
       "      <th>log_battery_power</th>\n",
       "      <th>log_int_memory</th>\n",
       "      <th>battery_power_bins</th>\n",
       "      <th>ram_bins</th>\n",
       "      <th>int_memory_bins</th>\n",
       "    </tr>\n",
       "  </thead>\n",
       "  <tbody>\n",
       "    <tr>\n",
       "      <th>0</th>\n",
       "      <td>-0.902597</td>\n",
       "      <td>0</td>\n",
       "      <td>0.830779</td>\n",
       "      <td>0</td>\n",
       "      <td>-0.764629</td>\n",
       "      <td>0.0</td>\n",
       "      <td>-1.382405</td>\n",
       "      <td>0.339276</td>\n",
       "      <td>1.350676</td>\n",
       "      <td>-1.101463</td>\n",
       "      <td>...</td>\n",
       "      <td>0</td>\n",
       "      <td>1</td>\n",
       "      <td>1</td>\n",
       "      <td>63.0</td>\n",
       "      <td>7.843849</td>\n",
       "      <td>6.736967</td>\n",
       "      <td>2.079442</td>\n",
       "      <td>0</td>\n",
       "      <td>2</td>\n",
       "      <td>0</td>\n",
       "    </tr>\n",
       "    <tr>\n",
       "      <th>1</th>\n",
       "      <td>-0.495139</td>\n",
       "      <td>1</td>\n",
       "      <td>-1.253064</td>\n",
       "      <td>1</td>\n",
       "      <td>-0.995615</td>\n",
       "      <td>1.0</td>\n",
       "      <td>1.156334</td>\n",
       "      <td>0.686381</td>\n",
       "      <td>-0.120727</td>\n",
       "      <td>-0.664034</td>\n",
       "      <td>...</td>\n",
       "      <td>1</td>\n",
       "      <td>0</td>\n",
       "      <td>2</td>\n",
       "      <td>51.0</td>\n",
       "      <td>7.875499</td>\n",
       "      <td>6.929517</td>\n",
       "      <td>3.988984</td>\n",
       "      <td>1</td>\n",
       "      <td>2</td>\n",
       "      <td>3</td>\n",
       "    </tr>\n",
       "    <tr>\n",
       "      <th>2</th>\n",
       "      <td>-1.537686</td>\n",
       "      <td>1</td>\n",
       "      <td>-1.253064</td>\n",
       "      <td>1</td>\n",
       "      <td>-0.533642</td>\n",
       "      <td>1.0</td>\n",
       "      <td>0.494054</td>\n",
       "      <td>1.380591</td>\n",
       "      <td>0.133939</td>\n",
       "      <td>0.210825</td>\n",
       "      <td>...</td>\n",
       "      <td>1</td>\n",
       "      <td>0</td>\n",
       "      <td>2</td>\n",
       "      <td>22.0</td>\n",
       "      <td>7.864804</td>\n",
       "      <td>6.335054</td>\n",
       "      <td>3.737670</td>\n",
       "      <td>0</td>\n",
       "      <td>2</td>\n",
       "      <td>2</td>\n",
       "    </tr>\n",
       "    <tr>\n",
       "      <th>3</th>\n",
       "      <td>-1.419319</td>\n",
       "      <td>1</td>\n",
       "      <td>1.198517</td>\n",
       "      <td>0</td>\n",
       "      <td>-0.995615</td>\n",
       "      <td>0.0</td>\n",
       "      <td>-1.216835</td>\n",
       "      <td>1.033486</td>\n",
       "      <td>-0.262208</td>\n",
       "      <td>0.648255</td>\n",
       "      <td>...</td>\n",
       "      <td>0</td>\n",
       "      <td>0</td>\n",
       "      <td>2</td>\n",
       "      <td>128.0</td>\n",
       "      <td>7.926603</td>\n",
       "      <td>6.423247</td>\n",
       "      <td>2.397895</td>\n",
       "      <td>0</td>\n",
       "      <td>2</td>\n",
       "      <td>0</td>\n",
       "    </tr>\n",
       "    <tr>\n",
       "      <th>4</th>\n",
       "      <td>1.325906</td>\n",
       "      <td>1</td>\n",
       "      <td>-0.395011</td>\n",
       "      <td>0</td>\n",
       "      <td>2.007209</td>\n",
       "      <td>1.0</td>\n",
       "      <td>0.659624</td>\n",
       "      <td>0.339276</td>\n",
       "      <td>0.020754</td>\n",
       "      <td>-1.101463</td>\n",
       "      <td>...</td>\n",
       "      <td>1</td>\n",
       "      <td>0</td>\n",
       "      <td>1</td>\n",
       "      <td>16.0</td>\n",
       "      <td>7.252762</td>\n",
       "      <td>7.507690</td>\n",
       "      <td>3.806662</td>\n",
       "      <td>3</td>\n",
       "      <td>1</td>\n",
       "      <td>2</td>\n",
       "    </tr>\n",
       "  </tbody>\n",
       "</table>\n",
       "<p>5 rows × 28 columns</p>\n",
       "</div>"
      ],
      "text/plain": [
       "   battery_power  blue  clock_speed  dual_sim        fc  four_g  int_memory  \\\n",
       "0      -0.902597     0     0.830779         0 -0.764629     0.0   -1.382405   \n",
       "1      -0.495139     1    -1.253064         1 -0.995615     1.0    1.156334   \n",
       "2      -1.537686     1    -1.253064         1 -0.533642     1.0    0.494054   \n",
       "3      -1.419319     1     1.198517         0 -0.995615     0.0   -1.216835   \n",
       "4       1.325906     1    -0.395011         0  2.007209     1.0    0.659624   \n",
       "\n",
       "      m_dep  mobile_wt   n_cores  ...  touch_screen  wifi  price_range  \\\n",
       "0  0.339276   1.350676 -1.101463  ...             0     1            1   \n",
       "1  0.686381  -0.120727 -0.664034  ...             1     0            2   \n",
       "2  1.380591   0.133939  0.210825  ...             1     0            2   \n",
       "3  1.033486  -0.262208  0.648255  ...             0     0            2   \n",
       "4  0.339276   0.020754 -1.101463  ...             1     0            1   \n",
       "\n",
       "   screen_area   log_ram  log_battery_power  log_int_memory  \\\n",
       "0         63.0  7.843849           6.736967        2.079442   \n",
       "1         51.0  7.875499           6.929517        3.988984   \n",
       "2         22.0  7.864804           6.335054        3.737670   \n",
       "3        128.0  7.926603           6.423247        2.397895   \n",
       "4         16.0  7.252762           7.507690        3.806662   \n",
       "\n",
       "   battery_power_bins  ram_bins  int_memory_bins  \n",
       "0                   0         2                0  \n",
       "1                   1         2                3  \n",
       "2                   0         2                2  \n",
       "3                   0         2                0  \n",
       "4                   3         1                2  \n",
       "\n",
       "[5 rows x 28 columns]"
      ]
     },
     "execution_count": 1,
     "metadata": {},
     "output_type": "execute_result"
    }
   ],
   "source": [
    "# Import necessary libraries\n",
    "import pandas as pd\n",
    "import numpy as np\n",
    "import matplotlib as plt\n",
    "\n",
    "# Load the dataset\n",
    "train_data = pd.read_csv('../dataset/cleaned_train.csv')\n",
    "train_data.head()"
   ]
  },
  {
   "cell_type": "code",
   "execution_count": 2,
   "metadata": {},
   "outputs": [
    {
     "name": "stdout",
     "output_type": "stream",
     "text": [
      "Columns with NaN values:\n",
      " Series([], dtype: int64)\n"
     ]
    }
   ],
   "source": [
    "nan_values = train_data.isna().sum()\n",
    "\n",
    "# Print columns with NaN values and their counts\n",
    "print(\"Columns with NaN values:\\n\", nan_values[nan_values > 0])"
   ]
  },
  {
   "cell_type": "code",
   "execution_count": 3,
   "metadata": {},
   "outputs": [],
   "source": [
    "from sklearn.model_selection import train_test_split\n",
    "\n",
    "X = train_data.drop(['price_range'], axis=1)\n",
    "y = train_data['price_range']\n",
    "\n",
    "X_train, X_val, y_train, y_val = train_test_split(X, y, test_size=0.2, random_state=42)"
   ]
  },
  {
   "cell_type": "markdown",
   "metadata": {},
   "source": [
    "Let's start with simple algorithms like Logistic Regression, Decision Trees, and then move to more complex ones like Random Forest, "
   ]
  },
  {
   "cell_type": "code",
   "execution_count": 4,
   "metadata": {},
   "outputs": [
    {
     "name": "stdout",
     "output_type": "stream",
     "text": [
      "Accuracy of Logistic regression classifier on train set: 0.908125\n",
      "Accuracy of Logistic regression classifier on test set: 0.895\n"
     ]
    },
    {
     "name": "stderr",
     "output_type": "stream",
     "text": [
      "c:\\Users\\Public\\anaconda3\\lib\\site-packages\\sklearn\\linear_model\\_logistic.py:460: ConvergenceWarning: lbfgs failed to converge (status=1):\n",
      "STOP: TOTAL NO. of ITERATIONS REACHED LIMIT.\n",
      "\n",
      "Increase the number of iterations (max_iter) or scale the data as shown in:\n",
      "    https://scikit-learn.org/stable/modules/preprocessing.html\n",
      "Please also refer to the documentation for alternative solver options:\n",
      "    https://scikit-learn.org/stable/modules/linear_model.html#logistic-regression\n",
      "  n_iter_i = _check_optimize_result(\n"
     ]
    }
   ],
   "source": [
    "from sklearn.linear_model import LogisticRegression\n",
    "\n",
    "log_clf = LogisticRegression()\n",
    "\n",
    "log_clf.fit(X_train, y_train)\n",
    "\n",
    "print(\n",
    "    \"Accuracy of Logistic regression classifier on train set:\",\n",
    "    log_clf.score(X_train, y_train),\n",
    ")\n",
    "print(\n",
    "    \"Accuracy of Logistic regression classifier on test set:\",\n",
    "    log_clf.score(X_val, y_val),\n",
    ")"
   ]
  },
  {
   "cell_type": "code",
   "execution_count": 5,
   "metadata": {},
   "outputs": [
    {
     "name": "stdout",
     "output_type": "stream",
     "text": [
      "[[100   5   0   0]\n",
      " [  5  81   5   0]\n",
      " [  0  11  74   7]\n",
      " [  0   0  13  99]]\n",
      "              precision    recall  f1-score   support\n",
      "\n",
      "           0       0.95      0.95      0.95       105\n",
      "           1       0.84      0.89      0.86        91\n",
      "           2       0.80      0.80      0.80        92\n",
      "           3       0.93      0.88      0.91       112\n",
      "\n",
      "    accuracy                           0.89       400\n",
      "   macro avg       0.88      0.88      0.88       400\n",
      "weighted avg       0.89      0.89      0.89       400\n",
      "\n"
     ]
    }
   ],
   "source": [
    "from sklearn.ensemble import RandomForestClassifier\n",
    "from sklearn.metrics import classification_report, confusion_matrix, accuracy_score\n",
    "\n",
    "# Split the data\n",
    "X = train_data.drop(['price_range'], axis=1)\n",
    "y = train_data['price_range']\n",
    "\n",
    "X_train, X_val, y_train, y_val = train_test_split(X, y, test_size=0.2, random_state=42)\n",
    "\n",
    "# Train a RandomForestClassifier\n",
    "model = RandomForestClassifier(random_state=42)\n",
    "model.fit(X_train, y_train)\n",
    "\n",
    "# Predictions and Evaluation\n",
    "y_pred = model.predict(X_val)\n",
    "print(confusion_matrix(y_val, y_pred))\n",
    "print(classification_report(y_val, y_pred))"
   ]
  },
  {
   "cell_type": "code",
   "execution_count": 6,
   "metadata": {},
   "outputs": [
    {
     "name": "stdout",
     "output_type": "stream",
     "text": [
      "Accuracy of RBF-kernel SVC on training set: 0.97\n",
      "Accuracy of RBF-kernel SVC on test set: 0.96\n"
     ]
    },
    {
     "data": {
      "text/html": [
       "<style>#sk-container-id-1 {color: black;}#sk-container-id-1 pre{padding: 0;}#sk-container-id-1 div.sk-toggleable {background-color: white;}#sk-container-id-1 label.sk-toggleable__label {cursor: pointer;display: block;width: 100%;margin-bottom: 0;padding: 0.3em;box-sizing: border-box;text-align: center;}#sk-container-id-1 label.sk-toggleable__label-arrow:before {content: \"▸\";float: left;margin-right: 0.25em;color: #696969;}#sk-container-id-1 label.sk-toggleable__label-arrow:hover:before {color: black;}#sk-container-id-1 div.sk-estimator:hover label.sk-toggleable__label-arrow:before {color: black;}#sk-container-id-1 div.sk-toggleable__content {max-height: 0;max-width: 0;overflow: hidden;text-align: left;background-color: #f0f8ff;}#sk-container-id-1 div.sk-toggleable__content pre {margin: 0.2em;color: black;border-radius: 0.25em;background-color: #f0f8ff;}#sk-container-id-1 input.sk-toggleable__control:checked~div.sk-toggleable__content {max-height: 200px;max-width: 100%;overflow: auto;}#sk-container-id-1 input.sk-toggleable__control:checked~label.sk-toggleable__label-arrow:before {content: \"▾\";}#sk-container-id-1 div.sk-estimator input.sk-toggleable__control:checked~label.sk-toggleable__label {background-color: #d4ebff;}#sk-container-id-1 div.sk-label input.sk-toggleable__control:checked~label.sk-toggleable__label {background-color: #d4ebff;}#sk-container-id-1 input.sk-hidden--visually {border: 0;clip: rect(1px 1px 1px 1px);clip: rect(1px, 1px, 1px, 1px);height: 1px;margin: -1px;overflow: hidden;padding: 0;position: absolute;width: 1px;}#sk-container-id-1 div.sk-estimator {font-family: monospace;background-color: #f0f8ff;border: 1px dotted black;border-radius: 0.25em;box-sizing: border-box;margin-bottom: 0.5em;}#sk-container-id-1 div.sk-estimator:hover {background-color: #d4ebff;}#sk-container-id-1 div.sk-parallel-item::after {content: \"\";width: 100%;border-bottom: 1px solid gray;flex-grow: 1;}#sk-container-id-1 div.sk-label:hover label.sk-toggleable__label {background-color: #d4ebff;}#sk-container-id-1 div.sk-serial::before {content: \"\";position: absolute;border-left: 1px solid gray;box-sizing: border-box;top: 0;bottom: 0;left: 50%;z-index: 0;}#sk-container-id-1 div.sk-serial {display: flex;flex-direction: column;align-items: center;background-color: white;padding-right: 0.2em;padding-left: 0.2em;position: relative;}#sk-container-id-1 div.sk-item {position: relative;z-index: 1;}#sk-container-id-1 div.sk-parallel {display: flex;align-items: stretch;justify-content: center;background-color: white;position: relative;}#sk-container-id-1 div.sk-item::before, #sk-container-id-1 div.sk-parallel-item::before {content: \"\";position: absolute;border-left: 1px solid gray;box-sizing: border-box;top: 0;bottom: 0;left: 50%;z-index: -1;}#sk-container-id-1 div.sk-parallel-item {display: flex;flex-direction: column;z-index: 1;position: relative;background-color: white;}#sk-container-id-1 div.sk-parallel-item:first-child::after {align-self: flex-end;width: 50%;}#sk-container-id-1 div.sk-parallel-item:last-child::after {align-self: flex-start;width: 50%;}#sk-container-id-1 div.sk-parallel-item:only-child::after {width: 0;}#sk-container-id-1 div.sk-dashed-wrapped {border: 1px dashed gray;margin: 0 0.4em 0.5em 0.4em;box-sizing: border-box;padding-bottom: 0.4em;background-color: white;}#sk-container-id-1 div.sk-label label {font-family: monospace;font-weight: bold;display: inline-block;line-height: 1.2em;}#sk-container-id-1 div.sk-label-container {text-align: center;}#sk-container-id-1 div.sk-container {/* jupyter's `normalize.less` sets `[hidden] { display: none; }` but bootstrap.min.css set `[hidden] { display: none !important; }` so we also need the `!important` here to be able to override the default hidden behavior on the sphinx rendered scikit-learn.org. See: https://github.com/scikit-learn/scikit-learn/issues/21755 */display: inline-block !important;position: relative;}#sk-container-id-1 div.sk-text-repr-fallback {display: none;}</style><div id=\"sk-container-id-1\" class=\"sk-top-container\"><div class=\"sk-text-repr-fallback\"><pre>SVC(gamma=2.5, kernel=&#x27;linear&#x27;)</pre><b>In a Jupyter environment, please rerun this cell to show the HTML representation or trust the notebook. <br />On GitHub, the HTML representation is unable to render, please try loading this page with nbviewer.org.</b></div><div class=\"sk-container\" hidden><div class=\"sk-item\"><div class=\"sk-estimator sk-toggleable\"><input class=\"sk-toggleable__control sk-hidden--visually\" id=\"sk-estimator-id-1\" type=\"checkbox\" checked><label for=\"sk-estimator-id-1\" class=\"sk-toggleable__label sk-toggleable__label-arrow\">SVC</label><div class=\"sk-toggleable__content\"><pre>SVC(gamma=2.5, kernel=&#x27;linear&#x27;)</pre></div></div></div></div></div>"
      ],
      "text/plain": [
       "SVC(gamma=2.5, kernel='linear')"
      ]
     },
     "execution_count": 6,
     "metadata": {},
     "output_type": "execute_result"
    }
   ],
   "source": [
    "from sklearn.svm import SVC\n",
    "\n",
    "C = 1.0\n",
    "np.random.seed(42)\n",
    "\n",
    "clfc = SVC(C=C, kernel=\"linear\", gamma=2.5).fit(X_train, y_train)\n",
    "print(\n",
    "    \"Accuracy of RBF-kernel SVC on training set: {:.2f}\".format(\n",
    "        clfc.score(X_train, y_train)\n",
    "    )\n",
    ")\n",
    "print(\"Accuracy of RBF-kernel SVC on test set: {:.2f}\".format(clfc.score(X_val, y_val)))\n",
    "clfc"
   ]
  },
  {
   "cell_type": "markdown",
   "metadata": {},
   "source": [
    "## Model Optimization"
   ]
  },
  {
   "cell_type": "code",
   "execution_count": 7,
   "metadata": {},
   "outputs": [
    {
     "name": "stdout",
     "output_type": "stream",
     "text": [
      "Fitting 5 folds for each of 32 candidates, totalling 160 fits\n",
      "Best Parameters: {'C': 100, 'gamma': 1, 'kernel': 'linear'}\n"
     ]
    }
   ],
   "source": [
    "from sklearn.model_selection import GridSearchCV, RandomizedSearchCV\n",
    "\n",
    "# Define SVM parameters\n",
    "param_grid = {\n",
    "    'C': [0.1, 1, 10, 100],  # Regularization parameter\n",
    "    'gamma': [1, 2.5, 2, 0.001],  # Kernel coefficient\n",
    "    'kernel': ['rbf', 'linear']  # Radial Basis Function kernel\n",
    "}\n",
    "\n",
    "\n",
    "# Define GridSearchCV\n",
    "svc = SVC()\n",
    "clf = GridSearchCV(estimator=svc, param_grid=param_grid, scoring='accuracy', cv=5, verbose=2, n_jobs=-1)\n",
    "\n",
    "# Perform hyperparameter search\n",
    "search = clf.fit(X_train, y_train)\n",
    "\n",
    "# Print best parameters and elapsed time\n",
    "print(f\"Best Parameters: {search.best_params_}\")\n"
   ]
  },
  {
   "cell_type": "code",
   "execution_count": 8,
   "metadata": {},
   "outputs": [
    {
     "data": {
      "text/plain": [
       "0.96125"
      ]
     },
     "execution_count": 8,
     "metadata": {},
     "output_type": "execute_result"
    }
   ],
   "source": [
    "clf.best_score_"
   ]
  },
  {
   "cell_type": "code",
   "execution_count": 9,
   "metadata": {},
   "outputs": [
    {
     "name": "stdout",
     "output_type": "stream",
     "text": [
      "[[102   3   0   0]\n",
      " [  0  91   0   0]\n",
      " [  0   1  89   2]\n",
      " [  0   0   1 111]]\n",
      "              precision    recall  f1-score   support\n",
      "\n",
      "           0       1.00      0.97      0.99       105\n",
      "           1       0.96      1.00      0.98        91\n",
      "           2       0.99      0.97      0.98        92\n",
      "           3       0.98      0.99      0.99       112\n",
      "\n",
      "    accuracy                           0.98       400\n",
      "   macro avg       0.98      0.98      0.98       400\n",
      "weighted avg       0.98      0.98      0.98       400\n",
      "\n"
     ]
    }
   ],
   "source": [
    "y_preds = clf.predict(X_val)\n",
    "print(confusion_matrix(y_val, y_preds))\n",
    "print(classification_report(y_val, y_preds))"
   ]
  },
  {
   "cell_type": "code",
   "execution_count": 10,
   "metadata": {},
   "outputs": [
    {
     "data": {
      "text/plain": [
       "['../model/SVC_model.pkl']"
      ]
     },
     "execution_count": 10,
     "metadata": {},
     "output_type": "execute_result"
    }
   ],
   "source": [
    "import joblib\n",
    "\n",
    "# Save the best model\n",
    "joblib.dump(clf, '../model/SVC_model.pkl')"
   ]
  }
 ],
 "metadata": {
  "kernelspec": {
   "display_name": "base",
   "language": "python",
   "name": "python3"
  },
  "language_info": {
   "codemirror_mode": {
    "name": "ipython",
    "version": 3
   },
   "file_extension": ".py",
   "mimetype": "text/x-python",
   "name": "python",
   "nbconvert_exporter": "python",
   "pygments_lexer": "ipython3",
   "version": "3.9.19"
  }
 },
 "nbformat": 4,
 "nbformat_minor": 2
}
